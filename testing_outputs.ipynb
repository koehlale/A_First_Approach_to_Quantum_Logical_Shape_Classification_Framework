{
 "cells": [
  {
   "cell_type": "code",
   "execution_count": 4,
   "metadata": {},
   "outputs": [
    {
     "name": "stdout",
     "output_type": "stream",
     "text": [
      "pc_matrix = array([[1, 1, 5],\n",
      "       [0, 3, 1],\n",
      "       [1, 0, 0]])\n",
      "squared_pc_matrix = array([[ 1,  1, 25],\n",
      "       [ 0,  9,  1],\n",
      "       [ 1,  0,  0]])\n",
      "prob = array([1, 0, 1])\n",
      "---\n",
      "pc_matrix = array([[2, 1, 1],\n",
      "       [1, 1, 4],\n",
      "       [1, 0, 0]])\n",
      "squared_pc_matrix = array([[ 4,  1,  1],\n",
      "       [ 1,  1, 16],\n",
      "       [ 1,  0,  0]])\n",
      "prob = array([4, 1, 1])\n",
      "---\n",
      "probability_matrix=array([[1, 0, 1],\n",
      "       [4, 1, 1]])\n",
      "problem!!!\n"
     ]
    },
    {
     "data": {
      "text/plain": [
       "array([1, 1, 0])"
      ]
     },
     "execution_count": 4,
     "metadata": {},
     "output_type": "execute_result"
    }
   ],
   "source": [
    "import numpy as np\n",
    "\n",
    "def quanten_matching(\n",
    "    complete_pc_matrices_per_shape_class: list[np.matrix], k: int\n",
    ") -> None:\n",
    "\n",
    "    n = len(complete_pc_matrices_per_shape_class)\n",
    "    all_probs = []\n",
    "    for i in range(n):\n",
    "        pc_matrix = complete_pc_matrices_per_shape_class[i]\n",
    "        print(f\"{pc_matrix = }\")\n",
    "        squared_pc_matrix = pc_matrix**2\n",
    "        print(f\"{squared_pc_matrix = }\")\n",
    "        prob = np.sum(squared_pc_matrix[:, :k], axis=1)\n",
    "        print(f\"{prob = }\")\n",
    "        all_probs.append(prob)\n",
    "        print(\"---\")\n",
    "\n",
    "    probability_matrix = np.array(all_probs)\n",
    "    print(f\"{probability_matrix=}\")\n",
    "    \n",
    "    for vec in  probability_matrix.T:\n",
    "        _,arr  = np.unique(vec, return_counts=True) \n",
    "        if np.max(arr) > 1: \n",
    "            print(\"problem!!!\")\n",
    "\n",
    "    targeted_shape_class = np.argmax(\n",
    "        probability_matrix, axis=0\n",
    "    )  # Gibt Index des größten Wertes in einer Spalte\n",
    "    return targeted_shape_class\n",
    "\n",
    "\n",
    "X = np.array([[1,1,5],[0,3,1],[1,0,0]])\n",
    "Y = np.array([[2,1,1],[1,1,4],[1,0,0]])\n",
    "quanten_matching(complete_pc_matrices_per_shape_class=[X,Y], k=1)"
   ]
  },
  {
   "cell_type": "code",
   "execution_count": 2,
   "metadata": {},
   "outputs": [
    {
     "data": {
      "text/plain": [
       "array([[ 1,  4,  9],\n",
       "       [16, 25, 36]])"
      ]
     },
     "execution_count": 2,
     "metadata": {},
     "output_type": "execute_result"
    }
   ],
   "source": [
    "import numpy as np\n",
    "A = np.array([[1,2,3],[4,5,6]])\n",
    "A[0][1]\n",
    "np.sum(A[1])\n",
    "A**2"
   ]
  },
  {
   "cell_type": "code",
   "execution_count": 9,
   "metadata": {},
   "outputs": [
    {
     "data": {
      "text/plain": [
       "2"
      ]
     },
     "execution_count": 9,
     "metadata": {},
     "output_type": "execute_result"
    }
   ],
   "source": [
    "import numpy as np\n",
    "\n",
    "a = np.array([1,2,3,2, 3, 2])\n",
    "np.sum([a == 3])"
   ]
  },
  {
   "cell_type": "code",
   "execution_count": 33,
   "metadata": {},
   "outputs": [
    {
     "name": "stdout",
     "output_type": "stream",
     "text": [
      "[[1 2 3 1]\n",
      " [2 3 4 1]]\n",
      "[5, 5]\n"
     ]
    }
   ],
   "source": [
    "import numpy as np\n",
    "\n",
    "X = np.array([[1,2,3,4], [2,3,4,3]])\n",
    "m = np.array([5,6,7,8])\n",
    "X[:, -1] = np.array([1,1])\n",
    "print(X)\n",
    "print([5]*2)"
   ]
  },
  {
   "cell_type": "code",
   "execution_count": 20,
   "metadata": {},
   "outputs": [
    {
     "name": "stdout",
     "output_type": "stream",
     "text": [
      "(array([2.14369254e-16, 2.46743741e+00, 2.55325626e+01]), array([[ 0.57735027,  0.69126815, -0.43452849],\n",
      "       [ 0.57735027, -0.72194678, -0.38139154],\n",
      "       [-0.57735027, -0.03067863, -0.81592003]]))\n",
      "[[1. 2. 3.]\n",
      " [2. 4. 1.]\n",
      " [1. 0. 2.]]\n"
     ]
    }
   ],
   "source": [
    "import numpy as np\n",
    "\n",
    "A = np.array([[1,1,2], [2,0,2], [1,2,3]])\n",
    "print(np.linalg.eigh(A.T@A))\n",
    "\n",
    "v1 = np.array([1.0, 2.0, 3.0])\n",
    "v2 = np.array([2.0, 4.0, 1.0])\n",
    "v3 = np.array([1.0, 0.0, 2.0])\n",
    "V = np.array([v1, v2, v3])\n",
    "print(V)"
   ]
  },
  {
   "cell_type": "code",
   "execution_count": 34,
   "metadata": {},
   "outputs": [
    {
     "name": "stdout",
     "output_type": "stream",
     "text": [
      "[[ 1  2]\n",
      " [-1  1]]\n",
      "[0.  1.5]\n",
      "[[ 1.   0.5]\n",
      " [-1.  -0.5]]\n",
      "[[2.  1. ]\n",
      " [1.  0.5]]\n"
     ]
    }
   ],
   "source": [
    "import numpy as np\n",
    "\n",
    "x1 = np.array([1, 2])\n",
    "x2 = np.array([-1, 1])\n",
    "\n",
    "X = np.array([x1,x2])\n",
    "print(X)\n",
    "mX = np.mean(X, axis=0)\n",
    "print(mX)\n",
    "XX =X - mX\n",
    "print(XX)\n",
    "print(np.cov(XX.T))"
   ]
  }
 ],
 "metadata": {
  "kernelspec": {
   "display_name": "Python 3",
   "language": "python",
   "name": "python3"
  },
  "language_info": {
   "codemirror_mode": {
    "name": "ipython",
    "version": 3
   },
   "file_extension": ".py",
   "mimetype": "text/x-python",
   "name": "python",
   "nbconvert_exporter": "python",
   "pygments_lexer": "ipython3",
   "version": "3.10.11"
  }
 },
 "nbformat": 4,
 "nbformat_minor": 2
}
